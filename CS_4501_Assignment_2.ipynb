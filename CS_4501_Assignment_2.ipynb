{
  "nbformat": 4,
  "nbformat_minor": 0,
  "metadata": {
    "colab": {
      "name": "CS 4501 Assignment 2.ipynb",
      "version": "0.3.2",
      "provenance": [],
      "include_colab_link": true
    },
    "kernelspec": {
      "display_name": "Python 3",
      "language": "python",
      "name": "python3"
    }
  },
  "cells": [
    {
      "cell_type": "markdown",
      "metadata": {
        "id": "view-in-github",
        "colab_type": "text"
      },
      "source": [
        "<a href=\"https://colab.research.google.com/github/jfullerton44/MachineLearning/blob/master/CS_4501_Assignment_2.ipynb\" target=\"_parent\"><img src=\"https://colab.research.google.com/assets/colab-badge.svg\" alt=\"Open In Colab\"/></a>"
      ]
    },
    {
      "metadata": {
        "id": "MIvgjSZuDOdE",
        "colab_type": "text"
      },
      "cell_type": "markdown",
      "source": [
        "# Assignment 2: Spam Classification with SVM"
      ]
    },
    {
      "metadata": {
        "id": "BFMzEfKaDOdI",
        "colab_type": "text"
      },
      "cell_type": "markdown",
      "source": [
        "### CS 4501 Machine Learning - Department of Computer Science - University of Virginia\n",
        "\n",
        "![Spam email](https://www.saleshandy.com/blog/wp-content/uploads/2017/01/wsi-imageoptim-11-Reasons-Why-Your-Email-Ends-Up-In-Spam.png)\n",
        "\n",
        "*Many email services today provide spam filters that are able to classify emails into spam and non-spam email with high accuracy. In this part of the assignment, you will use SVMs to build your own spam filter. For references, you may refer to my [lecture 6](https://drive.google.com/open?id=1CeBhepjDKBaFBq2BZq-zNQs-MC8ll7aL4qAF8TJ24FM) and [lecture 6b](https://drive.google.com/open?id=13BidUAs_c2QdZkf92axt2S748sbnbI9Hgxg-fzb-OuU) or Chapter 5 of the textbook if you need additional sample codes to help with your assignment. For deliverables, you must write code in Python and submit **this** Jupyter Notebook file (.ipynb) to earn a total of 100 pts. You will gain points depending on how you perform in the following sections.*\n"
      ]
    },
    {
      "metadata": {
        "id": "BOOW2renDOdK",
        "colab_type": "text"
      },
      "cell_type": "markdown",
      "source": [
        "---\n",
        "## 1. PRE-PROCESSING THE DATA (20 pts)\n",
        "\n",
        "**Data Acquiring:** Download the spam dataset from UC Irvine. You can find the dataset attached with the assignment in Collab. Note that the data is in raw file, so you have to convert them into a readable format (ie. CSV). Please be sure to read its documentation to learn more about the dataset. \n",
        "\n",
        "**Data Splitting:** Put data into the format needed for classification task, then split it into 80% training, 20% testing (each should have approximately the same proportion between positive and negative examples).\n",
        "\n",
        "**Data Discovery:** Plot out all correlations among the features. You may notice some features are more correlated with your predicted value than other. This information will help you confirm that weights of your SVM model later on.\n",
        "\n",
        "**Data Cleaning:** If your dataset has some missing values, make sure you are able to fill those values with the Imputer class. \n",
        "\n",
        "**Feature Scaling** You can use the standard library StandardScaler to normalize the value of each features."
      ]
    },
    {
      "metadata": {
        "id": "BEWXgTDQDOdN",
        "colab_type": "code",
        "colab": {}
      },
      "cell_type": "code",
      "source": [
        "# You might want to use the following packages\n",
        "from sklearn.model_selection import train_test_split\n",
        "from pandas.plotting import scatter_matrix # optional\n",
        "from sklearn.preprocessing import Imputer\n",
        "from sklearn.preprocessing import LabelEncoder\n",
        "from sklearn.preprocessing import OneHotEncoder\n",
        "from sklearn.pipeline import Pipeline\n",
        "from sklearn.preprocessing import StandardScaler\n",
        "\n",
        "# Your code goes here for this section.\n",
        "# X_train = ;\n",
        "# y_train = ;\n",
        "# X_test = ;\n",
        "# y_test = ;"
      ],
      "execution_count": 0,
      "outputs": []
    },
    {
      "metadata": {
        "id": "b_aV2q47DOdT",
        "colab_type": "text"
      },
      "cell_type": "markdown",
      "source": [
        "- - -\n",
        "## 2. TRAINING LINEAR SVM FOR SPAM CLASSIFICATION (15 pts)\n",
        "\n",
        "Train your linear SVM classifier on the training data, and then test the classifier on the test data. You may use the default **loss function** (=\"hinge\") and **default** value of the C hyperparameter (=1.0):\n",
        "\n",
        "* Report (1) accuracy, (2) precision, (3) recall, and (4) F-score on the test data\n",
        "* Create an ROC curve, using 100 evenly spaced thresholds, for this SVM. You may use library function calls to create the ROC curve.\n",
        "\n",
        "**Implementation Notes:** For SVM, you do NOT need to add a column of 1's to the $\\mathbf{x}$ matrix to have an intercept term\n",
        "\n"
      ]
    },
    {
      "metadata": {
        "id": "px1aGI12DOdV",
        "colab_type": "code",
        "colab": {}
      },
      "cell_type": "code",
      "source": [
        "from sklearn.svm import LinearSVC\n",
        "\n",
        "# Training your svm here\n",
        "svm_clf = LinearSVC(C=1, loss=\"hinge\", random_state=42)\n",
        "\n",
        "# Testing your svm here\n",
        "from sklearn.metrics import precision_score, recall_score\n",
        "from sklearn.metrics import roc_curve\n"
      ],
      "execution_count": 0,
      "outputs": []
    },
    {
      "metadata": {
        "id": "xuP0zJxuDOdY",
        "colab_type": "text"
      },
      "cell_type": "markdown",
      "source": [
        "- - -\n",
        "## 3. TUNING REGULARIZATION HYPER-PARAMETER C (15 pts)\n",
        "Next, you will study the SVM tradeoff between margin and data violation by using different values of the C hyper-parameter. Your task is to run an experiment with different values of C on the spam dataset and report the performance measures similar to section 2. After running the experiment, you must provide some justifications on the reason you select a certain value of C. \n",
        "\n",
        "Hint: you can use cross validation for each value of C and then pick the value which yields the best performance."
      ]
    },
    {
      "metadata": {
        "id": "zVGo0vStDOdZ",
        "colab_type": "code",
        "colab": {}
      },
      "cell_type": "code",
      "source": [
        ""
      ],
      "execution_count": 0,
      "outputs": []
    },
    {
      "metadata": {
        "id": "gVZKVrW_DOdc",
        "colab_type": "text"
      },
      "cell_type": "markdown",
      "source": [
        "- - -\n",
        "## 4. SELECTING THE FEATURES WITH LINEAR SVM (20 pts)\n",
        "\n",
        "Once your learned a best linear SVM in previous sections, your next task is to find which are best features to classify spam. First, you must obtain the weight vector $\\mathbf{w}$ using the attribute $coef_$ of your SVM classifier. Then, for the number of features $n = 2$ to $57$, you will run the following in a loop:\n",
        "\n",
        "* Select a set of top $n$ features that have the highest weights\n",
        "* Train a classifier $\\text{SVM}_n$ on all training data, only using these $n$ features with the same hyperparameter C learn from section 3.\n",
        "* Test $\\text{SVM}_n$ on the test set (using the same $n$ features) to obtain accuracy.\n",
        "* Plot accuracy on test data vs. $n$ number of features\n",
        "\n",
        "Identify the top 5 features. Using the plot, discuss the effects of feature selection on the performance in a short paragraph (ie. How much better the performance becomes everytime one of top 5 features is added? Were the top spam features surprising to you?)  \n",
        "\n"
      ]
    },
    {
      "metadata": {
        "id": "dQ5xP9JfDOde",
        "colab_type": "code",
        "colab": {}
      },
      "cell_type": "code",
      "source": [
        "# Your feature selection code goes here\n",
        "\n",
        "\n",
        "# Your paragraph goes here for this section"
      ],
      "execution_count": 0,
      "outputs": []
    },
    {
      "metadata": {
        "id": "24MaI6QpDOdh",
        "colab_type": "text"
      },
      "cell_type": "markdown",
      "source": [
        "- - -\n",
        "## 5. KERNELIZING SVM WITH THE GAUSSIAN RBF (30 pts)\n",
        "\n",
        "In this part of the asisgnment, you will be using SVMs to do non-linear classification. In particular, you will be using SVMs with Gaussian kernels on this dataset which is not linearly separable. \n",
        "\n",
        "$\n",
        "    \\mathbf{K}_{RBF}(\\mathbf{x}^{(i)},\\mathbf{x}^{(j)}) = \\exp(-\\gamma ||\\mathbf{x}^{(i)} -\\mathbf{x}^{(j)}||^2).\n",
        "$\n",
        "\n",
        "First, your task is to determine the best regularization $C$ and the spread of the Gaussian kernel $\\gamma$ hyperparameters to use. You can train the SVM on the training set and report the performance in metrics from section 2. By using different values of $C$ and $\\gamma$, you will be able to learn a good non-linear decision boundary that can perform reasonably well for this dataset. \n",
        "\n",
        "Next, you will compare the performance of this kernelized version of SVM and the of linear SVM in Section 3. You will need to plot out the performance in terms of accuracy, precision, and recall, and the ROC curve) for both. How much better does your non-linear SVM classifier perform comparing to a linear SVM? \n",
        "\n",
        "**Implementation Note:** When implementing cross validation to select the best C and $\\gamma$ parameter to use, you need to evaluate the error using cross validation.\n",
        "\n",
        "Finally, write a paragraph reporting on the final performance of your RBF kerneled SVM. Do you think the performance is adequate to be deployed in practice? Justify your reasons.\n",
        "\n",
        "\n"
      ]
    },
    {
      "metadata": {
        "id": "j_CpEzmSDOdi",
        "colab_type": "code",
        "colab": {}
      },
      "cell_type": "code",
      "source": [
        "from sklearn.svm import SVC\n",
        "# hyperparams = (gamma1, C1), (gamma1, C2), (gamma2, C1), (gamma2, C2), ...\n",
        "# for gamma, C in hyperparams:\n",
        "#    rbf_kernel_svm_clf = SVC(kernel=\"rbf\", gamma=gamma, C=C))\n",
        "#    rbf_kernel_svm_clf.fit(X_cv, y_cv)\n",
        "#    # Your code to train and find the best value of C and gamma here"
      ],
      "execution_count": 0,
      "outputs": []
    },
    {
      "metadata": {
        "id": "0dAOq5_mDOdk",
        "colab_type": "text"
      },
      "cell_type": "markdown",
      "source": [
        "- - - \n",
        "### NEED HELP?"
      ]
    },
    {
      "metadata": {
        "id": "RPjDDoYaDOdk",
        "colab_type": "text"
      },
      "cell_type": "markdown",
      "source": [
        "In case you get stuck in any step in the process, you may find some useful information from:\n",
        "\n",
        " * Consult my [lecture 6](https://drive.google.com/open?id=1CeBhepjDKBaFBq2BZq-zNQs-MC8ll7aL4qAF8TJ24FM) and [lecture 6b](https://drive.google.com/open?id=13BidUAs_c2QdZkf92axt2S748sbnbI9Hgxg-fzb-OuU) and/or the textbook\n",
        " * Talk to the TA, they are available and there to help you during [office hour](https://docs.google.com/document/d/15qB84xjaS-uRJmfKmmQuCz38bLMFaoqdbuRLoZEdOYI/edit#heading=h.72k1pvft525n)\n",
        " * Come talk to me or email me <nn4pj@virginia.edu> with subject starting \"CS4501 Assignment 2:...\".\n",
        "\n",
        "Best of luck and have fun!"
      ]
    },
    {
      "metadata": {
        "id": "Uai_6f-jDOdl",
        "colab_type": "code",
        "colab": {}
      },
      "cell_type": "code",
      "source": [
        ""
      ],
      "execution_count": 0,
      "outputs": []
    }
  ]
}