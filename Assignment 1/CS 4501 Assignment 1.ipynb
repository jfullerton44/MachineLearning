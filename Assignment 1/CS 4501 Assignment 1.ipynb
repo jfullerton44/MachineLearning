{
 "cells": [
  {
   "cell_type": "markdown",
   "metadata": {},
   "source": [
    "# Assignment 1: Comparison of Multivariate Linear Regression Models"
   ]
  },
  {
   "cell_type": "markdown",
   "metadata": {},
   "source": [
    "### CS 4501 Machine Learning - Department of Computer Science - University of Virginia\n",
    "*In this assignment, you will get to pick your favorite data set on Kaggle (https://kaggle.com) and implement some learning models in the context of a **regression** problem.  For references, you may refer to [my slides](https://docs.google.com/presentation/d/10D1he89peAWaFgjtZlHpUzvOOAie_vIFT95htKCKgc0/edit#slide=id.p) or Chapter 4 of the textbook if you need additional sample codes to help with your assignment. To get started, you will need to determine which dataset to download and copy it into the directory where you wish to run your implementation (ie. same folder as this file).* \n",
    "\n",
    "*For deliverables, you must write code in Python and submit **this** Jupyter Notebook file (.ipynb) to earn a total of 100 pts. You will gain points depending on how you perform in the following sections.*\n"
   ]
  },
  {
   "cell_type": "markdown",
   "metadata": {},
   "source": [
    "***\n",
    "## 1. BIG PICTURE (5 pts)\n",
    "Write a paragraph explaining the context of the problem in which you are trying to investigate. In the same paragraph, explain why you pick your dataset. Then, you MUST include the URL to the dataset to help the TA to download it (we will assume that the data file is put into the same folder as the Jupyter Notebook file). Then, you can write some code to load the CSV file and take a quick look at the dataset, and output the following:\n",
    "\n",
    " * How big is your dataset? (in terms of MB)\n",
    " * How many entries does it have?\n",
    " * How many features does it have?\n",
    " * What are some basic statistics you can learn right away about this dataset?"
   ]
  },
  {
   "cell_type": "code",
   "execution_count": 1,
   "metadata": {},
   "outputs": [],
   "source": [
    "# Import some common packages\n",
    "import os\n",
    "import numpy as np\n",
    "import matplotlib\n",
    "import matplotlib.pyplot as plt\n",
    "import pandas as pd\n",
    "\n",
    "# to make this notebook's output stable across runs\n",
    "np.random.seed(42)\n",
    "\n",
    "# Your code goes here for this section, make sure you also include the output to answer the above questions.\n",
    "datasetURL = \"https://www.kaggle.com/uciml/red-wine-quality-cortez-et-al-2009\"; # required url to download for CSV file. The TA will need to download the file and run your program.\n"
   ]
  },
  {
   "cell_type": "markdown",
   "metadata": {},
   "source": [
    "---\n",
    "## 2. DATA DISCOVERY, CLEANING, AND SCALING (10 pts)\n",
    "\n",
    "**Data Discover:** Plot out all correlations among the features. You may notice some features are more correlated with your predicted value than other. This information will help you confirm that weights of your regression model later on.\n",
    "\n",
    "**Data Cleaning:** If your dataset has some missing values, make sure you are able to fill those values with the Imputer class. If your dataset has categorical features, make sure you conver those features into numerical using OneHotEncoder class. \n",
    "\n",
    "**Feature Scaling** More importantly, your task is to write some codes to normalize the value of each features as follow:\n",
    "\n",
    "* Subtract the mean value of each feature from the dataset\n",
    "* Scale (divide) the feature values by their respective standard deviation\n",
    "\n",
    "Implementation Note: You will do this for all features and your code should work with datasets of all sizes (any number of features/ examples). After learning the parameters from the model, you must first normalize the new $x$ value using the mean and standard deviation that you have previously computed from the training set."
   ]
  },
  {
   "cell_type": "code",
   "execution_count": 9,
   "metadata": {},
   "outputs": [],
   "source": [
    "# You might want to use the following package\n",
    "from sklearn.model_selection import train_test_split\n",
    "from pandas.plotting import scatter_matrix # optional\n",
    "from sklearn.preprocessing import Imputer\n",
    "from sklearn.preprocessing import LabelEncoder\n",
    "from sklearn.preprocessing import OneHotEncoder\n",
    "from sklearn.pipeline import Pipeline\n",
    "from sklearn.preprocessing import StandardScaler\n",
    "\n",
    "# Your code goes here for this section.\n",
    "X_train = [];\n",
    "y_train = [];\n",
    "X_test = [];\n",
    "y_test = [];"
   ]
  },
  {
   "cell_type": "markdown",
   "metadata": {},
   "source": [
    "- - -\n",
    "## 3. IMPLEMENTATION OF GRADIENT DESCENT (45 pts)\n",
    "The gradient descent formulation remain the same as one in the lecture. Keep in mind that you will need to add a column $\\textbf{x}_0$ with all 1s as part of the training data. You should write code to implement the **MyLinearRegression** class and its predefined methods. \n",
    "\n",
    "* **Gradient Descent:** Notes that you may NOT call the library linear regression which defeats the purpose of this assignment. Make sure your code supports any number of features and is well-vectorized."
   ]
  },
  {
   "cell_type": "code",
   "execution_count": 12,
   "metadata": {},
   "outputs": [],
   "source": [
    "# NOTE: You may not use the library Linear Regression, but implement your own!\n",
    "# REMEMBER to place self.attribute = 0 with value from your implementation\n",
    "\n",
    "class MyLinearRegression:\n",
    "    def __int__ (self):\n",
    "        self.theta = 0; # parameter vector;\n",
    "        self.alpha = 0; # learning rate\n",
    "        self.cost  = 0; # cost function\n",
    "  \n",
    "    def fitUsingGradientDescent(self, X_train, y_train):\n",
    "        # implementation code here\n",
    "        self.theta = 0;\n",
    "    \n",
    "    def gradientDescent(self, X_train, y_train, theta, alpha, iters):\n",
    "        # INPUT:\n",
    "        # alpha: the learning rate\n",
    "        # iters: number of iterations\n",
    "        # \n",
    "        # OUTPUT: \n",
    "        # theta: updated value for theta\n",
    "        # cost: value of the cost function\n",
    "        #\n",
    "        # implementation code here\n",
    "        self.theta = 0;\n",
    "    \n",
    "    def predict(self, X_test):\n",
    "        # implementation code here \n",
    "        return y_predict\n",
    "    \n",
    "    \n",
    "    def fitUsingNormalEquation(self, X_train, y_train):\n",
    "        # implementation code here for PART 4.\n",
    "        self.theta = 0;\n",
    "    \n",
    "# Your code goes here to call the instance of class MyLinearRegression\n",
    "myGradientDescentModel = MyLinearRegression()\n",
    "#myGradientDescentModel.fitUsingGradientDescent(X_train, y_train)    "
   ]
  },
  {
   "cell_type": "markdown",
   "metadata": {},
   "source": [
    "* **Learning Rate:** You will try out different learning rates for the dataset and find a learning rate that converges quickly. If you pick a learning rate, your plot of Cost Function $J(\\theta)$ against number of iteration will quickly decay to a small value. This also indicates that your implementation is correct. If your learning rate is too large, the cost function $J(\\theta)$ can diverge and blow up. From the below plot, you must be able to report the best learning rate the you found to earn credit for this section."
   ]
  },
  {
   "cell_type": "code",
   "execution_count": 13,
   "metadata": {},
   "outputs": [],
   "source": [
    "# Use the following code to plot out your learning rate\n",
    "# iters and cost must be supplied to plot out the cost function\n",
    "# You may plot multiple curves corresponding to different learning rates to justify the best one.\n",
    "#\n",
    "# plt.set_xlabel('Iterations')  \n",
    "# plt.set_ylabel('Cost')  \n",
    "# plt.set_title('Error vs. Training Iterations')  "
   ]
  },
  {
   "cell_type": "markdown",
   "metadata": {},
   "source": [
    "- - -\n",
    "## 4. IMPLEMENTATION OF THE NORMAL EQUATION (10 pts)"
   ]
  },
  {
   "cell_type": "markdown",
   "metadata": {},
   "source": [
    "In my lecture, you learn that the closed form solution of linear regression using the normal equation formulation. Using the formula does not require any feature scaling, and should be straight forward to implement: \n",
    "\n",
    "$\n",
    "    \\mathbf{\\theta} = ({\\mathbf{X}^{T}\\mathbf{X}})^{-1}\\mathbf{X}^{T}\\mathbf{y}.\n",
    "$\n",
    "\n",
    "Note that you still need to add a column of 1's to the $\\mathbf{\n",
    "X}$ matrix to have an intercept term."
   ]
  },
  {
   "cell_type": "code",
   "execution_count": 14,
   "metadata": {},
   "outputs": [],
   "source": [
    "# Implement the normalEquation method of the MyLinearRegression Class before execute the code below:\n",
    "myNormalEquationModel = MyLinearRegression()\n",
    "myGradientDescentModel.fitUsingNormalEquation(X_train, y_train)"
   ]
  },
  {
   "cell_type": "markdown",
   "metadata": {},
   "source": [
    "- - -\n",
    "## 5. COMPARISON OF DIFFERENT IMPLEMENTATIONS (20 pts)"
   ]
  },
  {
   "cell_type": "markdown",
   "metadata": {},
   "source": [
    "You should be able to evaluate and compare your gradient descent as well as normal equation implementation of linear regression. In theory, they should be the same, or at least similar. For good measures, you may also use the built-in library **Scholastic Gradient Descent (SGD)** as a third model for comparison. For each model, you must compute the Root Mean Squared Error (RMSE) as performance measure. The good news is that you can call library functions to compute these as shown below instead of writing your own code:\n",
    "\n",
    "* Which one yields the best performance measure for your dataset?\n",
    "* What is your assessment of the error? Good? Okay? Terrible?"
   ]
  },
  {
   "cell_type": "code",
   "execution_count": 15,
   "metadata": {},
   "outputs": [],
   "source": [
    "from sklearn.metrics import mean_squared_error\n",
    "\n",
    "# Use the built-in SGD Regressor model\n",
    "from sklearn.linear_model import SGDRegressor\n",
    "mySGDModel = SGDRegressor()\n",
    "#mySGDModel.fit(X_train,y_train)\n",
    "#y_predict = mySGDModel.predict(X_test)\n",
    "#mse = mean_squared_error(y_test, y_predict)\n",
    "#mySGDModel_rmse = np.sqrt(mse)\n",
    "# print(mySGDModel_rmse)\n",
    "\n",
    "# myGradientDescentModel_rmse  \n",
    "# myNormalEquationModel_rmse \n",
    "\n"
   ]
  },
  {
   "cell_type": "markdown",
   "metadata": {},
   "source": [
    "- - -\n",
    "## 6. PRESENTATION OF YOUR SOLUTION (10 pts)"
   ]
  },
  {
   "cell_type": "markdown",
   "metadata": {},
   "source": [
    "Now that you need to write a short memo of one paragraph to be read by a non-technical audience (ie. your manager/boss). Focus on answering the following: \n",
    "\n",
    "* How can you pitch your solution to this project? \n",
    "* What did you learn so far about the problem?\n",
    "* Is there any insight moving forward to improve the solution."
   ]
  },
  {
   "cell_type": "code",
   "execution_count": 16,
   "metadata": {},
   "outputs": [],
   "source": [
    "# Your paragraph goes here for this section"
   ]
  },
  {
   "cell_type": "markdown",
   "metadata": {},
   "source": [
    "- - - \n",
    "### NEED HELP?"
   ]
  },
  {
   "cell_type": "markdown",
   "metadata": {},
   "source": [
    "In case you get stuck in any step in the process, you may find some useful information from:\n",
    "\n",
    " * Consult my [slides](https://docs.google.com/presentation/d/10D1he89peAWaFgjtZlHpUzvOOAie_vIFT95htKCKgc0/edit?usp=sharing) and/or the textbook\n",
    " * Talk to the TA, they are available and there to help you during [office hour](http://bit.ly/cs4501oh)\n",
    " * Come talk to me or email me <nn4pj@virginia.edu> with subject starting \"CS4501 Assignment 1:...\".\n",
    "\n",
    "Best of luck and have fun!"
   ]
  },
  {
   "cell_type": "code",
   "execution_count": null,
   "metadata": {},
   "outputs": [],
   "source": []
  },
  {
   "cell_type": "code",
   "execution_count": null,
   "metadata": {},
   "outputs": [],
   "source": []
  }
 ],
 "metadata": {
  "kernelspec": {
   "display_name": "Python 3",
   "language": "python",
   "name": "python3"
  },
  "language_info": {
   "codemirror_mode": {
    "name": "ipython",
    "version": 3
   },
   "file_extension": ".py",
   "mimetype": "text/x-python",
   "name": "python",
   "nbconvert_exporter": "python",
   "pygments_lexer": "ipython3",
   "version": "3.7.0"
  }
 },
 "nbformat": 4,
 "nbformat_minor": 2
}
